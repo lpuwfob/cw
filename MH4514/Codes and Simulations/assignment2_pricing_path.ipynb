{
 "cells": [
  {
   "cell_type": "code",
   "execution_count": null,
   "metadata": {
    "collapsed": true
   },
   "outputs": [],
   "source": [
    "from IPython.display import HTML\n",
    "\n",
    "HTML('''<script>\n",
    "code_show=true; \n",
    "function code_toggle() {\n",
    " if (code_show){\n",
    " $('div.input').hide();\n",
    " } else {\n",
    " $('div.input').show();\n",
    " }\n",
    " code_show = !code_show\n",
    "} \n",
    "$( document ).ready(code_toggle);\n",
    "</script>\n",
    "<form action=\"javascript:code_toggle()\"><input type=\"submit\" value=\"Click here to toggle on/off the raw code.\"></form>''')"
   ]
  },
  {
   "cell_type": "code",
   "execution_count": null,
   "metadata": {
    "collapsed": true
   },
   "outputs": [],
   "source": [
    "%matplotlib inline\n",
    "import networkx as nx \n",
    "import numpy as np\n",
    "import matplotlib \n",
    "import matplotlib.pyplot as plt \n",
    "%matplotlib inline \n",
    "\n",
    "N=8;\n",
    "\n",
    "S0=3.34;\n",
    "\n",
    "K=3.18 \n",
    "\n",
    "sigma=0.68;\n",
    "dt=3.5/365;\n",
    "\n",
    "r = 0.02*dt;\n",
    "\n",
    "a=(1+r)*(1-sigma*np.sqrt(dt))-1;\n",
    "b=(1+r)*(1+sigma*np.sqrt(dt))-1;\n",
    "\n",
    "p = (r-a)/(b-a)\n",
    "q = (b-r)/(b-a)\n",
    "\n",
    "X = np.empty(N+1, dtype=int)\n",
    "for i in range(0,N+1):\n",
    "    X[i]=i\n",
    "\n",
    "def plot_tree(axarr,g):\n",
    "    plt.figure(figsize=(20,10))\n",
    "    Z = np.empty(3)\n",
    "    global N\n",
    "    for k in reversed(range(0,N)):\n",
    "        for l in range(-k+1,k+3,2):\n",
    "            Z[0]=g.node[(k,l)]['value']\n",
    "            Z[1]=g.node[(k+1,l+1)]['value']\n",
    "            Z[2]=3\n",
    "            axarr.plot(X[k:k+2],Z[0:2],color='blue',marker='.',markersize = 10)\n",
    "            Z[0]=g.node[(k,l)]['value']\n",
    "            Z[1]=g.node[(k+1,l-1)]['value']\n",
    "            Z[2]=3\n",
    "            axarr.plot(X[k:k+2],Z[0:2],color='blue',marker='.',markersize = 10)\n",
    "    axarr.grid(linestyle='--', linewidth=0.5, color='gray')\n",
    "    \n",
    "#    plt.ylim(g.node[(N,-N+1)]['value'],g.node[(N,N+1)]['value']) \n",
    "#    plt.xlim(-0.5,N+0.5)\n",
    "#    ff.canvas.draw()\n",
    "# plt.show()\n",
    "\n",
    "    \n",
    "def path(axarr,Y,K,n):\n",
    "    global X\n",
    "    Z = np.empty(N+1)\n",
    "\n",
    "    for i in range(0,N+1):\n",
    "        Z[i]=K\n",
    "        \n",
    "    axarr.plot(X[0:n+1],Y[0:n+1],marker='.',color='red',linewidth=3,markersize = 16)\n",
    "    axarr.plot(X[0:N+1],Z[0:N+1],color='black',linewidth=2)\n",
    "    axarr.grid(linestyle='--', linewidth=0.5, color='gray')\n",
    "#    ff.canvas.draw()\n",
    "\n",
    "def graph_stock():\n",
    "    S=nx.Graph()\n",
    "    for k in range(0,N):\n",
    "        for l in range(-k+1,k+3,2):\n",
    "            S.add_edge((k,l),(k+1,l+1))\n",
    "            S.add_edge((k,l),(k+1,l-1))\n",
    "            \n",
    "    for n in S.nodes():\n",
    "        k=n[0]\n",
    "        l=n[1]-1\n",
    "        S.node[n]['value']=S0*((1.0+b)**((k+l)/2))*((1.0+a)**((k-l)/2))\n",
    "    return S"
   ]
  },
  {
   "cell_type": "code",
   "execution_count": null,
   "metadata": {
    "collapsed": true
   },
   "outputs": [],
   "source": [
    "def European_call_price(K):\n",
    "\n",
    "    price = nx.Graph()    \n",
    "    hedge = nx.Graph()\n",
    "    S = graph_stock()\n",
    "\n",
    "    for k in range(0,N):\n",
    "            for l in range(-k+1,k+3,2):\n",
    "                price.add_edge((k,l),(k+1,l+1))\n",
    "                price.add_edge((k,l),(k+1,l-1))\n",
    "                hedge.add_edge((k,l),(k+1,l+1))\n",
    "                hedge.add_edge((k,l),(k+1,l-1))\n",
    "    \n",
    "    for l in range(-N+1,N+3,2):\n",
    "        price.node[(N,l)]['value'] = np.maximum(S.node[(N,l)]['value']-K,0)\n",
    "     \n",
    "    for k in reversed(range(0,N)):\n",
    "        for l in range(-k+1,k+3,2):\n",
    "            price.node[(k,l)]['value'] = (price.node[(k+1,l+1)]['value']*p+price.node[(k+1,l-1)]['value']*q)/(1+r)        \n",
    "    return price"
   ]
  },
  {
   "cell_type": "code",
   "execution_count": null,
   "metadata": {
    "collapsed": true
   },
   "outputs": [],
   "source": [
    "def European_call_hedge(K):\n",
    "\n",
    "    price = European_call_price(K)\n",
    "    hedge = nx.Graph()\n",
    "    S = graph_stock()\n",
    "\n",
    "    for k in range(0,N):\n",
    "            for l in range(-k+1,k+3,2):\n",
    "                hedge.add_edge((k,l),(k+1,l+1))\n",
    "                hedge.add_edge((k,l),(k+1,l-1))\n",
    "    \n",
    "    for l in range(-N+1,N+3,2):\n",
    "        hedge.node[(N,l)]['value'] = 1\n",
    "\n",
    "    for k in reversed(range(0,N)):\n",
    "        for l in range(-k+1,k+3,2):\n",
    "            hedge.node[(k,l)]['value'] = (price.node[(k+1,l+1)]['value']-price.node[(k+1,l-1)]['value'])/(b-a)/(S.node[(k,l)]['value'])\n",
    "    for l in range(-N+1,N+1,2):\n",
    "        hedge.node[(N,l)]['value'] = hedge.node[(N-1,l+1)]['value'] \n",
    "        hedge.node[(N,l+2)]['value'] = hedge.node[(N-1,l+1)]['value'] \n",
    "\n",
    "    return hedge"
   ]
  },
  {
   "cell_type": "code",
   "execution_count": null,
   "metadata": {
    "collapsed": false
   },
   "outputs": [],
   "source": [
    "print('Underlying asset prices:') \n",
    "ff, axarr = plt.subplots(1,figsize=(12,10))\n",
    "\n",
    "plot_tree(axarr,graph_stock())\n",
    "\n",
    "Y = np.empty(N+1)\n",
    "\n",
    "Y[0]=3.34;Y[1]=3.37;Y[2]=3.4;Y[3]=3.2;Y[4]=3.28;Y[5]=3.45\n",
    "\n",
    "path(axarr,Y,K,5)"
   ]
  },
  {
   "cell_type": "code",
   "execution_count": null,
   "metadata": {
    "collapsed": false
   },
   "outputs": [],
   "source": [
    "print('European call prices:') \n",
    "ff, axarr = plt.subplots(1,figsize=(12,10))\n",
    "\n",
    "plot_tree(axarr,European_call_price(float(K))) \n",
    "\n",
    "Y[0]=0.34;Y[1]=0.33;Y[2]=0.335;Y[3]=0.186;Y[4]=0.183;Y[5]=0.290\n",
    "\n",
    "path(axarr,Y,0,5)\n",
    "\n",
    "print('Price at time 0 of the European call option:',float(\"{0:.4f}\".format(European_call_price(float(K)).node[(0,1)]['value']))) "
   ]
  },
  {
   "cell_type": "code",
   "execution_count": null,
   "metadata": {
    "collapsed": false
   },
   "outputs": [],
   "source": [
    "ff, axarr = plt.subplots(1,figsize=(12,10))\n",
    "print('Hedging strategy:') \n",
    "plot_tree(axarr,European_call_hedge(float(K)))"
   ]
  }
 ],
 "metadata": {
  "anaconda-cloud": {},
  "kernelspec": {
   "display_name": "Python [Root]",
   "language": "python",
   "name": "Python [Root]"
  },
  "language_info": {
   "codemirror_mode": {
    "name": "ipython",
    "version": 3
   },
   "file_extension": ".py",
   "mimetype": "text/x-python",
   "name": "python",
   "nbconvert_exporter": "python",
   "pygments_lexer": "ipython3",
   "version": "3.5.1"
  },
  "widgets": {
   "state": {},
   "version": "1.1.2"
  }
 },
 "nbformat": 4,
 "nbformat_minor": 1
}
