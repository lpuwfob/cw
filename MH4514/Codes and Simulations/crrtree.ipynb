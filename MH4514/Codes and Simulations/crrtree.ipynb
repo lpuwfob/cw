{
 "cells": [
  {
   "cell_type": "code",
   "execution_count": null,
   "metadata": {
    "collapsed": true
   },
   "outputs": [],
   "source": [
    "from IPython.display import HTML\n",
    "\n",
    "HTML('''<script>\n",
    "code_show=true; \n",
    "function code_toggle() {\n",
    " if (code_show){\n",
    " $('div.input').hide();\n",
    " } else {\n",
    " $('div.input').show();\n",
    " }\n",
    " code_show = !code_show\n",
    "} \n",
    "$( document ).ready(code_toggle);\n",
    "</script>\n",
    "<form action=\"javascript:code_toggle()\"><input type=\"submit\" value=\"Click here to toggle on/off the raw code.\"></form>''')"
   ]
  },
  {
   "cell_type": "code",
   "execution_count": null,
   "metadata": {
    "collapsed": true
   },
   "outputs": [],
   "source": [
    "%matplotlib inline\n",
    "import networkx as nx \n",
    "import numpy as np\n",
    "import matplotlib \n",
    "import matplotlib.pyplot as plt \n",
    "\n",
    "r = 1.5/10;a=1.0/10;b=2.0/10\n",
    "\n",
    "p = (r-a)/(b-a)\n",
    "q = (b-r)/(b-a)\n",
    "\n",
    "def binomial_grid(n,s0):\n",
    "    global a,b,r,p,q\n",
    "    G=nx.Graph() \n",
    "    for i in range(0,n):\n",
    "        j=-i+1\n",
    "        while (j<i+2):\n",
    "            G.add_edge((i,j),(i+1,j+1),weight=0.0)\n",
    "            G.add_edge((i,j),(i+1,j-1),weight=0.0)\n",
    "            j=j+2\n",
    "       \n",
    "    posG={}\n",
    "    lab={}\n",
    "    for node in G.nodes():\n",
    "        posG[node]=(node[0],node[1])\n",
    "        if node[0]==0:\n",
    "            lab[node]=s0\n",
    "        k=node[0]\n",
    "        l=node[1]-1\n",
    "        lab[node]=float(\"{0:.2f}\".format(s0*(1.0+b)**((k+l)/2)*(1.0+a)**((k-l)/2)))\n",
    "    l=1\n",
    "    for k in range(0,n):\n",
    "        r=np.random.binomial(1,p,1)\n",
    "        if r>0:\n",
    "            G.add_edge((k,l),(k+1,l+1),weight=1.0)\n",
    "            l=l+1\n",
    "        else:\n",
    "            G.add_edge((k,l),(k+1,l-1),weight=1.0)\n",
    "            l=l-1\n",
    "\n",
    "    elarge=[(x,y) for (x,y,z) in G.edges(data=True) if z['weight'] >0.5]\n",
    "    esmall=[(x,y) for (x,y,z) in G.edges(data=True) if z['weight'] <=0.5]\n",
    "    plt.figure(figsize=(20,10))\n",
    "    nx.draw_networkx_edges(G,posG,edgelist=elarge,edge_color='blue',width=3)\n",
    "    nx.draw_networkx_edges(G,posG,edgelist=esmall,style='dashed')\n",
    "    nx.draw_networkx_labels(G,posG,lab,font_size=15,font_family='sans-serif')\n",
    "    plt.ylim(-n+0.5,n+1.5) \n",
    "    plt.xlim(-0.5,n+0.5)\n",
    "    plt.show()"
   ]
  },
  {
   "cell_type": "code",
   "execution_count": null,
   "metadata": {},
   "outputs": [],
   "source": [
    "binomial_grid(8,1.0)"
   ]
  }
 ],
 "metadata": {
  "anaconda-cloud": {},
  "kernelspec": {
   "display_name": "Python 2",
   "language": "python",
   "name": "python2"
  },
  "language_info": {
   "codemirror_mode": {
    "name": "ipython",
    "version": 2
   },
   "file_extension": ".py",
   "mimetype": "text/x-python",
   "name": "python",
   "nbconvert_exporter": "python",
   "pygments_lexer": "ipython2",
   "version": "2.7.15+"
  },
  "widgets": {
   "state": {},
   "version": "1.1.2"
  }
 },
 "nbformat": 4,
 "nbformat_minor": 1
}
